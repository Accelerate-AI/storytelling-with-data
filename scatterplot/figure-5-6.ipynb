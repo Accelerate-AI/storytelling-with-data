{
 "cells": [
  {
   "cell_type": "code",
   "execution_count": 1,
   "metadata": {},
   "outputs": [
    {
     "name": "stdout",
     "output_type": "stream",
     "text": [
      "Using matplotlib backend: TkAgg\n"
     ]
    }
   ],
   "source": [
    "import matplotlib\n",
    "from matplotlib import transforms, pyplot as plt\n",
    "import numpy as np\n",
    "\n",
    "#%matplotlib inline\n",
    "%matplotlib"
   ]
  },
  {
   "cell_type": "code",
   "execution_count": 49,
   "metadata": {},
   "outputs": [
    {
     "data": {
      "text/plain": [
       "<matplotlib.text.Text at 0xb3002d0>"
      ]
     },
     "execution_count": 49,
     "metadata": {},
     "output_type": "execute_result"
    },
    {
     "name": "stderr",
     "output_type": "stream",
     "text": [
      "C:\\Python\\python-3.6.2\\lib\\site-packages\\matplotlib\\font_manager.py:1297: UserWarning: findfont: Font family ['cursive'] not found. Falling back to DejaVu Sans\n",
      "  (prop.get_family(), self.defaultFamily[fontext]))\n"
     ]
    }
   ],
   "source": [
    "# configure plot font family to Arial\n",
    "plt.rcParams['font.family'] = 'Arial'\n",
    "# configure mathtext bold and italic font family to Arial\n",
    "matplotlib.rcParams['mathtext.fontset'] = 'custom'\n",
    "matplotlib.rcParams['mathtext.bf'] = 'Arial:bold'\n",
    "matplotlib.rcParams['mathtext.it'] = 'Arial:italic'\n",
    "\n",
    "# satisfaction vs number of issues by model\n",
    "X = ['A', 'B', 'C', 'D', 'E', 'F', 'G']\n",
    "Y = np.array([(73, 500), (76, 1250), (74, 970), (78, 1010), \n",
    "              (84, 700), (77.5, 950), (75, 800)])\n",
    "\n",
    "# Battleship Grey\n",
    "color_gray1 = '#555655'\n",
    "# Grey Chateau\n",
    "color_gray3 = '#939598'\n",
    "# Gray\n",
    "color_gray5 = '#828282'\n",
    "# Nero\n",
    "color_gray6 = '#231F20'\n",
    "# Fuzzy Wuzzy Brown\n",
    "color_brown1 = '#C35259'\n",
    "\n",
    "# create new figure\n",
    "fig, ax1 = plt.subplots(figsize=(8.2, 5.4), # width, height in inches \n",
    "                        dpi=110)             # resolution of the figure\n",
    "\n",
    "# tune the subplot layout by setting sides of the figure\n",
    "fig.subplots_adjust(left=0.262, right=0.875, top=0.605, bottom=0.06)\n",
    "\n",
    "# draw colored scatterplot\n",
    "colors = [color_gray3, color_brown1, color_brown1, color_brown1, color_gray3, color_brown1, color_gray3]\n",
    "ax1.scatter(Y[:, 0], Y[:, 1], color=colors, s=80)\n",
    "\n",
    "# annotate with colored labels with offsets\n",
    "txt_colors = [color_gray5, color_brown1, color_brown1, color_brown1, color_gray5, color_brown1, color_gray5]\n",
    "offsets = [(10, -4), (-35, -18), (-7, -18), (10, -4), (10, -4), (10, -4), (10, -4)]\n",
    "for i, n in enumerate(X):\n",
    "    ax1.annotate('Model ' + n,               # Model X text of the annotation\n",
    "                 Y[i],                       # (x,y) point to annotate\n",
    "                 xytext=offsets[i],          # (x,y) to place the text at\n",
    "                 textcoords='offset points', # offset (in points) from the xy value\n",
    "                 color=txt_colors[i],        \n",
    "                 fontsize=11)                \n",
    "\n",
    "# draw prior year average point\n",
    "ax1.scatter([72], [900], color=color_gray6, s=80)\n",
    "# draw prior year average vertical and horizontal ref lines\n",
    "plt.axvline(x=72, color=color_gray6, linewidth=0.5)\n",
    "plt.axhline(y=900, color=color_gray6, linewidth=0.5)\n",
    "# annotate prior year average point\n",
    "ax1.text(64, 880, 'Prior Year Avg.', color=color_gray1, fontsize=12, fontweight='bold')\n",
    "ax1.text(66.6, 980, '(all models)', color=color_gray1, fontsize=10)\n",
    "\n",
    "# set the data limits for the y-axis and x-axis\n",
    "ax1.set_xlim([60, 90])\n",
    "ax1.set_ylim([0, 1400])\n",
    "\n",
    "# invert y axis\n",
    "ax1.invert_yaxis()\n",
    "\n",
    "# set properties for axes object\n",
    "xticks = list(range(60, 95, 5))    # calculate x ticks\n",
    "yticks = list(range(0, 1600, 200)) # calculate y ticks\n",
    "plt.setp(ax1, \n",
    "         xticks=xticks,                            # set x ticks\n",
    "         xticklabels=[str(i)+'%' for i in xticks], # with n% labels\n",
    "         yticks=yticks)\n",
    "\n",
    "# change the appearance of ticks, tick labels, and gridlines \n",
    "ax1.tick_params(top='on', bottom='off', labelbottom='off', labeltop='on')\n",
    "\n",
    "# set the formatter of the major ticker to split thouthands with ,\n",
    "ax1.get_yaxis().set_major_formatter(\n",
    "    matplotlib.ticker.FuncFormatter(lambda x, p: format(int(x), ',')))\n",
    "\n",
    "# remove chart right and bottom borders\n",
    "ax1.spines['right'].set_visible(False)\n",
    "ax1.spines['bottom'].set_visible(False)\n",
    "\n",
    "# configure x, y tick labels appearance\n",
    "for i in ax1.get_yticklabels() + ax1.get_xticklabels():\n",
    "    i.set_fontsize(11) \n",
    "    i.set_color(color_gray5) \n",
    "\n",
    "# change ticks and spines color\n",
    "ax1.tick_params(color=color_gray5)\n",
    "ax1.spines['top'].set_color(color_gray5)\n",
    "ax1.spines['left'].set_color(color_gray5)\n",
    "\n",
    "# add axis labels \n",
    "ax1.text(55.8, -75, 'Number of issues per 1,000', color=color_gray1, rotation='vertical',  fontsize=10.5)\n",
    "ax1.text(57, -200, '% satisfied or highly satisfied', color=color_gray1, fontsize=10.5)\n",
    "\n",
    "# add more information text\n",
    "ax1.text(79.3, 195, 'High Satisfaction,', fontsize='16', color=color_gray5, fontweight='bold')\n",
    "ax1.text(83.3, 315, 'Few Issues', fontsize='16', color=color_gray5, fontweight='bold')\n",
    "ax1.text(79.3, 1240, 'High Satisfaction,', fontsize='16', color=color_gray5, fontweight='bold')\n",
    "ax1.text(82.5, 1350, 'Many Issues', fontsize='16', color=color_brown1, fontweight='bold')\n",
    "ax1.text(50.7, -20, 'FEW', fontsize='18', color=color_gray5, fontweight='bold')\n",
    "ax1.text(87.5, -400, 'HIGH', fontsize='18', color=color_gray5, fontweight='bold')\n",
    "ax1.text(57, -400, 'LOW', fontsize='18', color=color_gray5, fontweight='bold')\n",
    "ax1.text(50, 1425, 'MANY', fontsize='18', color=color_gray5, fontweight='bold')\n",
    "ax1.text(54, -280, 'Things Gone\\nWrong', color=color_gray1, fontsize=14, horizontalalignment='right', linespacing=1.6)\n",
    "ax1.text(57, -620, 'Satisfaction', color=color_gray1, fontsize=14)\n",
    "\n",
    "# title the plot\n",
    "ax1.text(47.7, -830, '$\\\\bf{Issues}$ vs. $\\\\bf{Satisfaction}$ by Model', color=color_gray1, fontsize=17)"
   ]
  },
  {
   "cell_type": "code",
   "execution_count": null,
   "metadata": {},
   "outputs": [],
   "source": []
  }
 ],
 "metadata": {
  "kernelspec": {
   "display_name": "Python 3",
   "language": "python",
   "name": "python3"
  },
  "language_info": {
   "codemirror_mode": {
    "name": "ipython",
    "version": 3
   },
   "file_extension": ".py",
   "mimetype": "text/x-python",
   "name": "python",
   "nbconvert_exporter": "python",
   "pygments_lexer": "ipython3",
   "version": "3.6.2"
  }
 },
 "nbformat": 4,
 "nbformat_minor": 2
}
