{
 "cells": [
  {
   "cell_type": "code",
   "execution_count": 37,
   "metadata": {},
   "outputs": [
    {
     "name": "stdout",
     "output_type": "stream",
     "text": [
      "Using matplotlib backend: TkAgg\n"
     ]
    }
   ],
   "source": [
    "import numpy as np\n",
    "import matplotlib\n",
    "from matplotlib import transforms, pyplot as plt\n",
    "\n",
    "#%matplotlib inline\n",
    "%matplotlib"
   ]
  },
  {
   "cell_type": "code",
   "execution_count": 51,
   "metadata": {},
   "outputs": [
    {
     "data": {
      "text/plain": [
       "<matplotlib.text.Text at 0xf1029d0>"
      ]
     },
     "execution_count": 51,
     "metadata": {},
     "output_type": "execute_result"
    }
   ],
   "source": [
    "# configure plot font family to Arial\n",
    "plt.rcParams['font.family'] = 'Arial'\n",
    "# configure mathtext bold and italic font family to Arial\n",
    "matplotlib.rcParams['mathtext.fontset'] = 'custom'\n",
    "matplotlib.rcParams['mathtext.bf'] = 'Arial:bold'\n",
    "matplotlib.rcParams['mathtext.it'] = 'Arial:italic'\n",
    "\n",
    "# segments distribution\n",
    "X = ['Segment ' + str(i) for i in range(1, 8)]\n",
    "Y = [16, 7,  10, 10, 10, 32, 15] # US Population\n",
    "Z = [9,  10, 15, 18, 17, 20, 11] # Our Customers\n",
    "\n",
    "# Silver\n",
    "color_gray1 = '#BFBEBE'\n",
    "# Smoky\n",
    "color_gray2 = '#646369'\n",
    "# Gray\n",
    "color_gray3 = '#828282'\n",
    "# Aluminium\n",
    "color_gray4 = '#929497'\n",
    "# Chathams Blue\n",
    "color_blue1 = '#174A7E'\n",
    "# Nepal\n",
    "color_blue2 = '#94AFC5'\n",
    "\n",
    "# create new figure\n",
    "fig, ax1 = plt.subplots(figsize=(7, 5), # width, height in inches \n",
    "                        dpi=110)        # resolution of the figure\n",
    "\n",
    "# tune the subplot layout by setting sides of the figure\n",
    "fig.subplots_adjust(left=0.154, right=0.77, top=0.89, bottom=0.1)\n",
    "\n",
    "# colors for bars drawing, numerical labeling and name labeling\n",
    "C = [color_gray1]*2 + [color_blue1]*3 + [color_gray1]*2\n",
    "CT = [color_gray3]*2 + [color_blue2]*3 + [color_gray3]*2\n",
    "CL = [color_gray4]*2 + [color_blue1]*3 + [color_gray4]*2\n",
    "\n",
    "# draw stacked bars plot\n",
    "bottom = np.array([0, 0]) # bottom accumulates starting points \n",
    "for i in range(len(X)):\n",
    "    bars = plt.bar([0, 1],\n",
    "                   [Y[i], Z[i]],\n",
    "                   bottom=bottom,     # for stacking\n",
    "                   color=C[i],\n",
    "                   edgecolor='white', # for white borders\n",
    "                   width=0.55)        # enlarge whitespace between    \n",
    "    \n",
    "    ax1.text(-0.36,\n",
    "             Y[i]/2 + bottom[0] - 1.9,\n",
    "             X[i],                    \n",
    "             fontsize=14,\n",
    "             horizontalalignment='right',\n",
    "             color=CL[i],\n",
    "             # use bold for blue color text\n",
    "             fontweight=('normal', 'bold')[CL[i] == color_blue1])\n",
    "    # add numerical data labels for each bar\n",
    "    for bi, b in enumerate(bars):\n",
    "        value = (Y[i], Z[i])[b.get_x() > 0]          # is it letf bar or right\n",
    "        ax1.text(b.get_x() + b.get_width()/2,        # x-center of bar\n",
    "                 b.get_y() + b.get_height()/2 - 1.9, # y-center of bar\n",
    "                 str(value)+'%',                     # value with %\n",
    "                 fontsize=14,\n",
    "                 horizontalalignment='center',\n",
    "                 color=CT[i])\n",
    "\n",
    "    bottom += np.array([Y[i], Z[i]])\n",
    "\n",
    "# change the appearance of ticks, tick labels, and gridlines\n",
    "ax1.tick_params(bottom='off', left='off', labelleft='off', labelbottom='on')\n",
    "\n",
    "# remove chart borders\n",
    "ax1.spines['left'].set_visible(False)\n",
    "ax1.spines['right'].set_visible(False)\n",
    "ax1.spines['top'].set_visible(False)\n",
    "\n",
    "# set category tick locations and labels of the x-axis\n",
    "plt.xticks([0, 1], ['US Population', 'Our Customers'])\n",
    "\n",
    "# configure responses labels appearance\n",
    "for item in ax1.get_xticklabels():\n",
    "    item.set_fontsize(14)\n",
    "    item.set_color(color_gray2)\n",
    "    # use trasformations to shift x tick labels slightly down\n",
    "    offset = transforms.ScaledTranslation(0, -0.07, fig.dpi_scale_trans)\n",
    "    item.set_transform(item.get_transform() + offset)\n",
    "    \n",
    "# set bottom border color\n",
    "ax1.spines['bottom'].set_color(color_gray1)\n",
    "\n",
    "# title the plot\n",
    "ax1.text(-0.75, 108, 'Distribution by customer segment', color=color_gray2, fontsize=17.4)\n"
   ]
  },
  {
   "cell_type": "code",
   "execution_count": null,
   "metadata": {},
   "outputs": [],
   "source": []
  }
 ],
 "metadata": {
  "kernelspec": {
   "display_name": "Python 3",
   "language": "python",
   "name": "python3"
  },
  "language_info": {
   "codemirror_mode": {
    "name": "ipython",
    "version": 3
   },
   "file_extension": ".py",
   "mimetype": "text/x-python",
   "name": "python",
   "nbconvert_exporter": "python",
   "pygments_lexer": "ipython3",
   "version": "3.6.2"
  }
 },
 "nbformat": 4,
 "nbformat_minor": 2
}
