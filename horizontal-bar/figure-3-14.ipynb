{
 "cells": [
  {
   "cell_type": "code",
   "execution_count": 1,
   "metadata": {},
   "outputs": [
    {
     "name": "stdout",
     "output_type": "stream",
     "text": [
      "Using matplotlib backend: TkAgg\n"
     ]
    }
   ],
   "source": [
    "import matplotlib\n",
    "from matplotlib import transforms, pyplot as plt\n",
    "import numpy as np\n",
    "\n",
    "#%matplotlib inline\n",
    "%matplotlib"
   ]
  },
  {
   "cell_type": "code",
   "execution_count": 2,
   "metadata": {},
   "outputs": [
    {
     "name": "stderr",
     "output_type": "stream",
     "text": [
      "C:\\Python\\python-3.6.2\\lib\\site-packages\\matplotlib\\font_manager.py:1297: UserWarning: findfont: Font family ['cursive'] not found. Falling back to DejaVu Sans\n",
      "  (prop.get_family(), self.defaultFamily[fontext]))\n"
     ]
    }
   ],
   "source": [
    "# configure plot font family to Arial\n",
    "plt.rcParams['font.family'] = 'Arial'\n",
    "# configure mathtext bold and italic font family to Arial\n",
    "matplotlib.rcParams['mathtext.fontset'] = 'custom'\n",
    "matplotlib.rcParams['mathtext.bf'] = 'Arial:bold'\n",
    "matplotlib.rcParams['mathtext.it'] = 'Arial:italic'\n",
    "\n",
    "# survey responses\n",
    "X = ['Colleague recommendation', 'Previous work together', 'Affordability of services',\n",
    "     'National reputation', 'Local knowledge', 'Content expertise', 'Demonstration of results']\n",
    "Y = [3, 16, 18, 20, 45, 55, 70] # responses distribution\n",
    "\n",
    "# Bobmay (0, 3, 4, 5 responses)\n",
    "color_gray2 = '#A6A6A5'\n",
    "# Charcoal (1, 2, 6 responses)\n",
    "color_gray3 = '#414040'\n",
    "# Dim gray for light text\n",
    "color_gray4 = '#646369'\n",
    "\n",
    "# create new figure\n",
    "fig, ax1 = plt.subplots(figsize=(9, 5), # width, height in inches \n",
    "                        dpi=110)        # resolution of the figure\n",
    "\n",
    "fig.subplots_adjust(left=0.28, \n",
    "                    right=0.53, \n",
    "                    top=0.66, \n",
    "                    bottom=0.19)\n",
    "\n",
    "# matplotlib doesn't have a function for drawing text with \n",
    "# different colors, let's implement it\n",
    "def rainbow_text(x, y, text, colors, spacing=20, ax=None, **kw):\n",
    "    colors = list(reversed(colors))\n",
    "    t = ax.transData\n",
    "    canvas = ax.figure.canvas\n",
    "    \n",
    "    for i, line in enumerate(reversed(text.split('\\n'))):\n",
    "        strings = line.split('||')\n",
    "        for s, c in zip(strings, colors[i]):\n",
    "            text = ax.text(x, y, s, color=c, transform=t, **kw)\n",
    "            text.draw(canvas.get_renderer())\n",
    "            ex = text.get_window_extent()\n",
    "            t = transforms.offset_copy(text._transform, x=ex.width, units='dots')\n",
    "\n",
    "        t = transforms.offset_copy(ax.transData, x=0, y=(i+1)*spacing, units='dots')\n",
    "        \n",
    "# titile the plot\n",
    "rainbow_text(-87, 10.3, \n",
    "             '$\\\\bf{Demonstrating\\ effectiveness}$|| is most important consideration\\n'\n",
    "             'when selecting a provider',\n",
    "             [['black', color_gray4], [color_gray4]],\n",
    "             spacing=24,\n",
    "             ax=ax1,\n",
    "             fontsize=14)\n",
    "\n",
    "# add survey question\n",
    "rainbow_text(-87, 8.35, \n",
    "         'In general, ||$\\\\bf{what\\ attributes\\ are\\ the\\ most\\ important}$\\n'\n",
    "         'to you in selecting a service provider?', \n",
    "         [[color_gray4, 'black'], [color_gray4]],\n",
    "         spacing=20,\n",
    "         ax=ax1,\n",
    "         fontsize=11)\n",
    "\n",
    "\n",
    "ax1.set_xlim([0, 80])\n",
    "plt.setp(ax1, \n",
    "         xticks=[0, 20, 40, 60, 80], \n",
    "         xticklabels=['0%', '20%', '40%', '60%', '80%'],\n",
    "         yticks=np.arange(len(X)), \n",
    "         yticklabels=X)\n",
    "\n",
    "for i, item in enumerate(ax1.get_yticklabels()):\n",
    "    item.set_fontsize(12)   \n",
    "\n",
    "ax1.tick_params(top='on', \n",
    "                bottom='off', \n",
    "                left='off', \n",
    "                right='off', \n",
    "                labelleft='on', \n",
    "                labelbottom='off',\n",
    "                labeltop='on')\n",
    "for i, item in enumerate(ax1.get_xticklabels()):\n",
    "    item.set_color('#646369')   \n",
    "    \n",
    "ax1.tick_params(color='#929497')\n",
    "ax1.spines['top'].set_color('#929497')\n",
    "ax1.spines['left'].set_visible(False)\n",
    "ax1.spines['right'].set_visible(False)\n",
    "ax1.spines['bottom'].set_visible(False)\n",
    "\n",
    "bars = ax1.barh(range(len(X)), \n",
    "                Y, \n",
    "                height=0.65, \n",
    "                color=[color_gray2] + [color_gray3]*2 + [color_gray2]*3 + [color_gray3])\n",
    "\n"
   ]
  },
  {
   "cell_type": "code",
   "execution_count": null,
   "metadata": {},
   "outputs": [],
   "source": []
  }
 ],
 "metadata": {
  "kernelspec": {
   "display_name": "Python 3",
   "language": "python",
   "name": "python3"
  },
  "language_info": {
   "codemirror_mode": {
    "name": "ipython",
    "version": 3
   },
   "file_extension": ".py",
   "mimetype": "text/x-python",
   "name": "python",
   "nbconvert_exporter": "python",
   "pygments_lexer": "ipython3",
   "version": "3.6.2"
  }
 },
 "nbformat": 4,
 "nbformat_minor": 2
}
